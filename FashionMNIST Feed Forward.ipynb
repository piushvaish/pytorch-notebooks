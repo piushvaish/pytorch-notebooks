{
 "cells": [
  {
   "cell_type": "code",
   "execution_count": 1,
   "metadata": {},
   "outputs": [],
   "source": [
    "import torch\n",
    "import torch.nn as nn\n",
    "import torchvision.datasets as datasets \n",
    "import torchvision.transforms as transforms"
   ]
  },
  {
   "cell_type": "code",
   "execution_count": 2,
   "metadata": {},
   "outputs": [],
   "source": [
    "input_size = 784         #Number of input neurons (image pixels) (28 * 28)\n",
    "hidden_size = 400       #Number of hidden neurons (~ imput_size + out_size / 2)\n",
    "out_size = 10           #Number of classes (0-9) \n",
    "epochs = 20           #How many times we pass our entire dataset into our network \n",
    "batch_size = 100        #Input size of the data during one iteration \n",
    "learning_rate = 0.001   #How fast we are learning"
   ]
  },
  {
   "cell_type": "code",
   "execution_count": 3,
   "metadata": {},
   "outputs": [],
   "source": [
    "#https://pytorch.org/docs/stable/torchvision/datasets.html#fashion-mnist\n",
    "train_dataset = datasets.FashionMNIST(root='./data',\n",
    "                           train=True,\n",
    "                           transform=transforms.ToTensor(),\n",
    "                           download=True)\n",
    "\n",
    "test_dataset = datasets.FashionMNIST(root='./data',\n",
    "                           train=False,\n",
    "                           transform=transforms.ToTensor())"
   ]
  },
  {
   "cell_type": "code",
   "execution_count": 4,
   "metadata": {},
   "outputs": [],
   "source": [
    "train_loader = torch.utils.data.DataLoader(dataset=train_dataset,\n",
    "                                          batch_size=batch_size,\n",
    "                                          shuffle=True)\n",
    "\n",
    "test_loader = torch.utils.data.DataLoader(dataset=test_dataset,\n",
    "                                          batch_size=batch_size,\n",
    "                                          shuffle=False)"
   ]
  },
  {
   "cell_type": "markdown",
   "metadata": {},
   "source": [
    "![nn mnist](https://user-images.githubusercontent.com/30661597/61593615-5eb8bf00-ac14-11e9-8087-f880971b3543.png)\n"
   ]
  },
  {
   "cell_type": "code",
   "execution_count": 5,
   "metadata": {},
   "outputs": [],
   "source": [
    "class Net(nn.Module):\n",
    "    def __init__(self, input_size, hidden_size, out_size):\n",
    "        super(Net, self).__init__()                    \n",
    "        self.fc1 = nn.Linear(input_size, hidden_size)    #First Layer                           \n",
    "        self.fc2 = nn.Linear(hidden_size, hidden_size)      #Second Layer Activation\n",
    "        self.fc3 = nn.Linear(hidden_size, out_size)\n",
    "        self.relu = nn.ReLU()\n",
    "        self.init_weights()\n",
    "        \n",
    "    def init_weights(self):\n",
    "        nn.init.kaiming_normal_(self.fc1.weight)\n",
    "        nn.init.kaiming_normal_(self.fc2.weight)\n",
    "\n",
    "    def forward(self, x):                          \n",
    "        out = self.fc1(x)\n",
    "        out = self.relu(out)\n",
    "        out = self.fc2(out)\n",
    "        out = self.relu(out)\n",
    "        out = self.fc3(out)\n",
    "        return out"
   ]
  },
  {
   "cell_type": "code",
   "execution_count": 6,
   "metadata": {},
   "outputs": [],
   "source": [
    "#Create an object of the class, which represents our network \n",
    "net = Net(input_size, hidden_size, out_size)\n",
    "CUDA = torch.cuda.is_available()\n",
    "if CUDA:\n",
    "    net = net.cuda()\n",
    "#The loss function. The Cross Entropy loss comes along with Softmax. Therefore, no need to specify Softmax as well\n",
    "criterion = nn.CrossEntropyLoss()\n",
    "optimizer = torch.optim.Adam(net.parameters(), lr=learning_rate)"
   ]
  },
  {
   "cell_type": "code",
   "execution_count": 7,
   "metadata": {},
   "outputs": [
    {
     "data": {
      "text/plain": [
       "<bound method Module.parameters of Net(\n",
       "  (fc1): Linear(in_features=784, out_features=400, bias=True)\n",
       "  (fc2): Linear(in_features=400, out_features=400, bias=True)\n",
       "  (fc3): Linear(in_features=400, out_features=10, bias=True)\n",
       "  (relu): ReLU()\n",
       ")>"
      ]
     },
     "execution_count": 7,
     "metadata": {},
     "output_type": "execute_result"
    }
   ],
   "source": [
    "net.parameters"
   ]
  },
  {
   "cell_type": "code",
   "execution_count": 8,
   "metadata": {},
   "outputs": [],
   "source": [
    "# for i, (images, labels) in enumerate(train_loader):   \n",
    "#         #Flatten the image from size (batch,1,28,28) --> (100,1,28,28) where 1 represents the number of channels (grayscale-->1),\n",
    "#         # to size (100,784) and wrap it in a variable\n",
    "#         # 100 is the batch size, 1 is the grayscale channel\n",
    "#         print(images.size())\n",
    "#         # -1 figure out the dimension.\n",
    "#         images = images.view(-1, 28*28)\n",
    "#         print(images.size())"
   ]
  },
  {
   "cell_type": "code",
   "execution_count": 9,
   "metadata": {},
   "outputs": [
    {
     "name": "stdout",
     "output_type": "stream",
     "text": [
      "Epoch [1/20], Iteration [600/600], Training Loss: 0.488, Training Accuracy: 82.727%\n",
      "Epoch [2/20], Iteration [600/600], Training Loss: 0.355, Training Accuracy: 86.977%\n",
      "Epoch [3/20], Iteration [600/600], Training Loss: 0.317, Training Accuracy: 88.247%\n",
      "Epoch [4/20], Iteration [600/600], Training Loss: 0.292, Training Accuracy: 89.162%\n",
      "Epoch [5/20], Iteration [600/600], Training Loss: 0.278, Training Accuracy: 89.553%\n",
      "Epoch [6/20], Iteration [600/600], Training Loss: 0.258, Training Accuracy: 90.297%\n",
      "Epoch [7/20], Iteration [600/600], Training Loss: 0.246, Training Accuracy: 90.598%\n",
      "Epoch [8/20], Iteration [600/600], Training Loss: 0.235, Training Accuracy: 91.152%\n",
      "Epoch [9/20], Iteration [600/600], Training Loss: 0.223, Training Accuracy: 91.570%\n",
      "Epoch [10/20], Iteration [600/600], Training Loss: 0.213, Training Accuracy: 91.988%\n",
      "Epoch [11/20], Iteration [600/600], Training Loss: 0.203, Training Accuracy: 92.247%\n",
      "Epoch [12/20], Iteration [600/600], Training Loss: 0.196, Training Accuracy: 92.570%\n",
      "Epoch [13/20], Iteration [600/600], Training Loss: 0.188, Training Accuracy: 92.833%\n",
      "Epoch [14/20], Iteration [600/600], Training Loss: 0.178, Training Accuracy: 93.155%\n",
      "Epoch [15/20], Iteration [600/600], Training Loss: 0.172, Training Accuracy: 93.395%\n",
      "Epoch [16/20], Iteration [600/600], Training Loss: 0.164, Training Accuracy: 93.623%\n",
      "Epoch [17/20], Iteration [600/600], Training Loss: 0.158, Training Accuracy: 94.030%\n",
      "Epoch [18/20], Iteration [600/600], Training Loss: 0.149, Training Accuracy: 94.265%\n",
      "Epoch [19/20], Iteration [600/600], Training Loss: 0.146, Training Accuracy: 94.318%\n",
      "Epoch [20/20], Iteration [600/600], Training Loss: 0.140, Training Accuracy: 94.655%\n",
      "DONE TRAINING!\n"
     ]
    }
   ],
   "source": [
    "#Train the network\n",
    "# epochs\n",
    "for epoch in range(epochs):\n",
    "    correct_train = 0\n",
    "    running_loss = 0\n",
    "    # iteration - at every iteration we have 256 batches.\n",
    "    for i, (images, labels) in enumerate(train_loader):   \n",
    "        #Flatten the image from size (batch,1,28,28) --> (100,1,28,28) where 1 represents the number of channels (grayscale-->1),\n",
    "        # to size (100,784) and wrap it in a variable\n",
    "        images = images.view(-1, 28*28)    \n",
    "        if CUDA:\n",
    "            images = images.cuda()\n",
    "            labels = labels.cuda()\n",
    "            \n",
    "        outputs = net(images)       \n",
    "        _, predicted = torch.max(outputs.data, 1)                                              \n",
    "        correct_train += (predicted == labels).sum() \n",
    "        loss = criterion(outputs, labels)                 # Difference between the actual and predicted (loss function)\n",
    "        running_loss += loss.item()\n",
    "        optimizer.zero_grad()                             # Set the gradients to zero before starting to do backpropragation because PyTorch accumulates the gradients on subsequent backward passes.\n",
    "        loss.backward()                                   # Backpropagation\n",
    "        optimizer.step()                                  # Update the weights\n",
    "        \n",
    "    if (i+1) % 100 == 0: \n",
    "        print('Epoch [{}/{}], Iteration [{}/{}], Training Loss: {:.3f}, Training Accuracy: {:.3f}%'.format\n",
    "              (epoch+1, epochs, i+1, len(train_dataset)// batch_size, running_loss/len(train_loader), (100*correct_train.double()/len(train_dataset))))\n",
    "print(\"DONE TRAINING!\")"
   ]
  },
  {
   "cell_type": "code",
   "execution_count": 10,
   "metadata": {},
   "outputs": [
    {
     "name": "stdout",
     "output_type": "stream",
     "text": [
      "Accuracy of the network on the 10000 test images: 89.67 %\n"
     ]
    }
   ],
   "source": [
    "with torch.no_grad():\n",
    "    correct = 0\n",
    "    for images, labels in test_loader:\n",
    "        if CUDA:\n",
    "            images = images.cuda()\n",
    "            labels = labels.cuda()\n",
    "        images = images.view(-1, 28*28)\n",
    "        outputs = net(images)\n",
    "        _, predicted = torch.max(outputs.data, 1)\n",
    "        correct += (predicted == labels).sum().item()\n",
    "\n",
    "    print('Accuracy of the network on the 10000 test images: {} %'.format(100 * correct / len(test_dataset)))"
   ]
  },
  {
   "cell_type": "code",
   "execution_count": null,
   "metadata": {},
   "outputs": [],
   "source": []
  }
 ],
 "metadata": {
  "kernelspec": {
   "display_name": "Python 3",
   "language": "python",
   "name": "python3"
  },
  "language_info": {
   "codemirror_mode": {
    "name": "ipython",
    "version": 3
   },
   "file_extension": ".py",
   "mimetype": "text/x-python",
   "name": "python",
   "nbconvert_exporter": "python",
   "pygments_lexer": "ipython3",
   "version": "3.7.3"
  }
 },
 "nbformat": 4,
 "nbformat_minor": 2
}
