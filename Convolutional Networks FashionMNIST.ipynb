{
 "cells": [
  {
   "cell_type": "markdown",
   "metadata": {},
   "source": [
    "A CNN is a neural network: an algorithm used to recognize patterns in data. Neural Networks in general are composed of a collection of neurons that are organized in layers, each with their own learnable weights and biases. Let’s break down a CNN into its basic building blocks.\n",
    "\n",
    "* A tensor can be thought of as an n-dimensional matrix. In the CNN above, tensors will be 3-dimensional with the exception of the output layer.\n",
    "* A neuron can be thought of as a function that takes in multiple inputs and yields a single output. The outputs of neurons are represented above as the red → blue activation maps.\n",
    "* A layer is simply a collection of neurons with the same operation, including the same hyperparameters.\n",
    "* Kernel weights and biases, while unique to each neuron, are tuned during the training phase, and allow the classifier to adapt to the problem and dataset provided. They are encoded in the visualization with a yellow → green diverging colorscale. The specific values can be viewed in the Interactive Formula View by clicking a neuron or by hovering over the kernel/bias in the Convolutional Elastic Explanation View.\n",
    "* A CNN conveys a differentiable score function, which is represented as class scores in the visualization on the output layer.\n",
    "\n",
    "https://poloclub.github.io/cnn-explainer/\n",
    "\n",
    "https://mattmazur.com/2015/03/17/a-step-by-step-backpropagation-example/"
   ]
  },
  {
   "cell_type": "code",
   "execution_count": 2,
   "metadata": {},
   "outputs": [],
   "source": [
    "import torch\n",
    "import torch.nn as nn\n",
    "import torchvision.transforms as transforms\n",
    "import torchvision.datasets as datasets\n",
    "from torch.autograd import Variable"
   ]
  },
  {
   "cell_type": "markdown",
   "metadata": {},
   "source": [
    "* transforms.Compose creates a series of transformation to prepare the dataset.\n",
    "* transforms.ToTenser convert PIL image(L, LA, P, I, F, RGB, YCbCr, RGBA, CMYK, 1) or numpy.ndarray (H x W x C) in the range [0, 255] to a torch.FloatTensor of shape (C x H x W) in the range [0.0, 1.0].\n",
    "* transform.Normalize Normalize a tensor image with mean and standard deviation. Tensor image size should be (C x H x W) to be normalized which we already did usetransforms.ToTenser.\n",
    "* datasets.FashionMNIST to download the Fashion MNIST datasets and transform the data. train=True if we want to get trained dataset otherwise set the parameter False for the test dataset.\n",
    "* torch.utils.data.Dataloader takes our data train or test data with parameter batch_size and shuffle. batch_size define the how many samples per batch to load, and shuffle parameter set the True to have the data reshuffled at every epoch."
   ]
  },
  {
   "cell_type": "code",
   "execution_count": 5,
   "metadata": {},
   "outputs": [],
   "source": [
    "#Load our dataset\n",
    "train_dataset = datasets.FashionMNIST(root = './data', \n",
    "                            train = True, \n",
    "                            transform=transforms.ToTensor(),\n",
    "                            download = False)\n",
    "loader = torch.utils.data.DataLoader(dataset = train_dataset, \n",
    "                                         batch_size = 10,\n",
    "                                          num_workers=0,\n",
    "                                         shuffle=False)\n",
    "# To calculate the mean and standard deviation\n",
    "mean = 0.\n",
    "std = 0.\n",
    "for images, _ in loader:\n",
    "    batch_samples = images.size(0) # batch size (the last batch can have smaller size!)\n",
    "    images = images.view(batch_samples, images.size(1), -1)\n",
    "    mean += images.mean(2).sum(0)\n",
    "    std += images.std(2).sum(0)\n",
    "\n",
    "mean /= len(loader.dataset)\n",
    "std /= len(loader.dataset)\n",
    "\n",
    "print(mean)\n",
    "print(std)"
   ]
  },
  {
   "cell_type": "code",
   "execution_count": 8,
   "metadata": {},
   "outputs": [],
   "source": [
    "# Specify the Mean and standard deviation of all the pixels in the MNIST dataset. They are precomputed \n",
    "mean_gray = 0.2860\n",
    "stddev_gray = 0.3205\n",
    "\n",
    "#Transform the images to tensors\n",
    "#Normalize a tensor image with mean and standard deviation. Given mean: (M1,...,Mn) and std: (S1,..,Sn) \n",
    "#for n channels, this transform will normalize each channel of the input torch.Tensor\n",
    "#i.e. input[channel] = (input[channel] - mean[channel]) / std[channel]\n",
    "\n",
    "transforms = transforms.Compose([transforms.ToTensor(),\n",
    "                                transforms.Normalize((mean_gray,), (stddev_gray,))]) # mean and std_dev has to be sequences e.g. tuples and hence there is a comma afterwards.\n",
    "\n",
    "#Load our dataset\n",
    "train_dataset = datasets.FashionMNIST(root = './data', \n",
    "                            train = True, \n",
    "                            transform = transforms,\n",
    "                            download = True)\n",
    "\n",
    "test_dataset = datasets.FashionMNIST(root = './data', \n",
    "                            train = False, \n",
    "                            transform = transforms)"
   ]
  },
  {
   "cell_type": "code",
   "execution_count": 9,
   "metadata": {},
   "outputs": [
    {
     "data": {
      "text/plain": [
       "<matplotlib.image.AxesImage at 0x1b5f4474eb8>"
      ]
     },
     "execution_count": 9,
     "metadata": {},
     "output_type": "execute_result"
    },
    {
     "data": {
      "image/png": "[encoded data removed]",
      "text/plain": [
       "<Figure size 432x288 with 1 Axes>"
      ]
     },
     "metadata": {
      "needs_background": "light"
     },
     "output_type": "display_data"
    }
   ],
   "source": [
    "import matplotlib.pyplot as plt\n",
    "random_image = train_dataset[20][0].numpy() * stddev_gray + mean_gray\n",
    "plt.imshow(random_image.reshape(28, 28), cmap='gray')"
   ]
  },
  {
   "cell_type": "code",
   "execution_count": 10,
   "metadata": {},
   "outputs": [
    {
     "name": "stdout",
     "output_type": "stream",
     "text": [
      "3\n"
     ]
    }
   ],
   "source": [
    "print(train_dataset[20][1])   #Print the corresponding label for the image"
   ]
  },
  {
   "cell_type": "code",
   "execution_count": 11,
   "metadata": {},
   "outputs": [],
   "source": [
    "#Make the dataset iterable\n",
    "batch_size = 100\n",
    "\n",
    "train_load = torch.utils.data.DataLoader(dataset = train_dataset, \n",
    "                                         batch_size = batch_size,\n",
    "                                         shuffle = True)\n",
    "\n",
    "test_load = torch.utils.data.DataLoader(dataset = test_dataset, \n",
    "                                         batch_size = batch_size,\n",
    "                                         shuffle = False)"
   ]
  },
  {
   "cell_type": "code",
   "execution_count": 12,
   "metadata": {},
   "outputs": [
    {
     "name": "stdout",
     "output_type": "stream",
     "text": [
      "There are 60000 images in the training set\n",
      "There are 10000 images in the test set\n",
      "There are 600 batches in the train loader\n",
      "There are 100 batches in the testloader\n"
     ]
    }
   ],
   "source": [
    "print('There are {} images in the training set'.format(len(train_dataset)))\n",
    "print('There are {} images in the test set'.format(len(test_dataset)))\n",
    "print('There are {} batches in the train loader'.format(len(train_load)))\n",
    "print('There are {} batches in the testloader'.format(len(test_load)))"
   ]
  },
  {
   "cell_type": "markdown",
   "metadata": {},
   "source": [
    "* 8, 32  feature maps\n",
    "* 3*3 filter\n"
   ]
  },
  {
   "cell_type": "markdown",
   "metadata": {},
   "source": [
    "![cnn mnist](https://user-images.githubusercontent.com/30661597/61713471-3c957d00-ad8b-11e9-9a38-e3f4d1e72565.png)"
   ]
  },
  {
   "cell_type": "markdown",
   "metadata": {},
   "source": [
    "**Defining our Neural Network (NN)architectures using the python class.**\n",
    "* PyTorch provides a nn.Module that building neural networks.\n",
    "* super().__init__() this creates a class that tracks the architecture and provides a lot of useful methods and attributes.\n",
    "* In NN architecture, we defined 5 hidden layers and 1 output layer.\n",
    "* self.fc1 = nn.Linear(1568, 600): This line creates a module for a linear transformation, xw+b, with 1568 inputs and 600 outputs for first hidden layer and assigns it to self.fc1. The module automatically creates the weight and bias tensors which we'll use in the forward method.\n",
    "\n",
    "* In Forward Model, we take tensor input x to change its shapes to our batch size using x.shape[0] , the -1 fill out the second dimension.\n",
    "* Then, we could pass thought operations that we defined in __init__ .The input layer goes through the hidden layer with a together dropout and RELU activation function then reassign it to the x.\n",
    "* For the output layer, we do not pass through the Log Softmax function to obtain the log-probabilities in neural-network as we are using cross entropy loss."
   ]
  },
  {
   "cell_type": "code",
   "execution_count": 13,
   "metadata": {},
   "outputs": [],
   "source": [
    "#Create the model class\n",
    "class CNN(nn.Module):\n",
    "    def __init__(self):\n",
    "        super(CNN,self).__init__()\n",
    "        #Same Padding = [(filter size - 1) / 2] (Same Padding--> input size = output size)\n",
    "        #grey channel has only 1 channel, kernel size 3 is same as 3*3\n",
    "        self.cnn1 = nn.Conv2d(in_channels=1, out_channels=8, kernel_size=3,stride=1, padding=1)\n",
    "        #The output size of each of the 8 feature maps is 28 calculated as follows\n",
    "        #[(input_size - filter_size + 2(padding) / stride) +1] --> [(28-3+2(1)/1)+1] = 28 (padding type is same)\n",
    "        #Batch normalization for feature maps - 8\n",
    "        self.batchnorm1 = nn.BatchNorm2d(8)\n",
    "        #RELU\n",
    "        self.relu = nn.ReLU()\n",
    "        self.maxpool = nn.MaxPool2d(kernel_size=2)\n",
    "        #After max pooling, the output of each feature map is now 28/2 = 14\n",
    "        self.cnn2 = nn.Conv2d(in_channels=8, out_channels=32, kernel_size=5, stride=1, padding=2)\n",
    "        #Output size of each of the 32 feature maps remains 14\n",
    "        self.batchnorm2 = nn.BatchNorm2d(32)\n",
    "        #After max pooling, the output of each feature map is 14/2 = 7\n",
    "        #Flatten the feature maps. You have 32 feature maps, each of them is of size 7x7 --> 32*7*7 = 1568\n",
    "        self.fc1 = nn.Linear(in_features=1568, out_features=600)\n",
    "        self.droput = nn.Dropout(p=0.5)\n",
    "        self.fc2 = nn.Linear(in_features=600, out_features=10)\n",
    "    def forward(self,x):\n",
    "        out = self.cnn1(x)\n",
    "        out = self.batchnorm1(out)\n",
    "        out = self.relu(out)\n",
    "        out = self.maxpool(out)\n",
    "        out = self.cnn2(out)\n",
    "        out = self.batchnorm2(out)\n",
    "        out = self.relu(out)\n",
    "        out = self.maxpool(out)\n",
    "        #Now we have to flatten the output. This is where we apply the feed forward neural network as learned before! \n",
    "        #It will take the shape (batch_size, 1568) = (100, 1568)\n",
    "        out = out.view(-1,1568) # donot have to specify 100 - batch_size. -1 is sufficient\n",
    "        #Then we forward through our fully connected layer \n",
    "        out = self.fc1(out)\n",
    "        out = self.relu(out)\n",
    "        out = self.droput(out)\n",
    "        out = self.fc2(out)\n",
    "        return out"
   ]
  },
  {
   "cell_type": "code",
   "execution_count": 14,
   "metadata": {},
   "outputs": [],
   "source": [
    "model = CNN()\n",
    "CUDA = torch.cuda.is_available()\n",
    "if CUDA:\n",
    "    model = model.cuda()    \n",
    "loss_fn = nn.CrossEntropyLoss()        \n",
    "# Show weight decay\n",
    "optimizer = torch.optim.SGD(model.parameters(), lr = 0.01)"
   ]
  },
  {
   "cell_type": "code",
   "execution_count": 15,
   "metadata": {},
   "outputs": [
    {
     "name": "stdout",
     "output_type": "stream",
     "text": [
      "For one iteration, this is what happens:\n",
      "Input Shape: torch.Size([100, 1, 28, 28])\n",
      "Labels Shape: torch.Size([100])\n",
      "Outputs Shape torch.Size([100, 10])\n",
      "Predicted Shape torch.Size([100])\n",
      "Predicted Tensor:\n",
      "tensor([8, 3, 3, 6, 3, 3, 3, 3, 2, 3, 3, 3, 8, 3, 3, 3, 3, 2, 3, 4, 6, 5, 3, 2,\n",
      "        4, 1, 4, 4, 6, 3, 3, 3, 3, 3, 6, 3, 4, 8, 5, 3, 5, 0, 3, 8, 3, 3, 4, 8,\n",
      "        3, 3, 3, 3, 5, 3, 3, 3, 3, 3, 6, 3, 2, 4, 2, 9, 9, 6, 3, 3, 3, 2, 0, 6,\n",
      "        4, 3, 8, 6, 4, 9, 3, 3, 4, 6, 3, 9, 7, 3, 1, 1, 6, 3, 8, 3, 1, 1, 4, 6,\n",
      "        3, 3, 9, 9], device='cuda:0')\n"
     ]
    }
   ],
   "source": [
    "#Understand what's happening\n",
    "iteration = 0\n",
    "correct = 0\n",
    "\n",
    "for i,(inputs,labels) in enumerate (train_load):\n",
    "\n",
    "    if CUDA:\n",
    "        inputs = inputs.cuda()\n",
    "        labels = labels.cuda()\n",
    "        \n",
    "    print(\"For one iteration, this is what happens:\")\n",
    "    # each tensor propogated through the network should be a 4D shape( batch_size, channels, rows, colums)\n",
    "    print(\"Input Shape:\",inputs.shape)\n",
    "    print(\"Labels Shape:\",labels.shape)\n",
    "    output = model(inputs)\n",
    "    print(\"Outputs Shape\",output.shape)\n",
    "    _, predicted = torch.max(output, 1) # maximum across the predicted class - out of 10\n",
    "    print(\"Predicted Shape\",predicted.shape)\n",
    "    print(\"Predicted Tensor:\")\n",
    "    print(predicted)\n",
    "    correct += (predicted == labels).sum()\n",
    "    break"
   ]
  },
  {
   "cell_type": "markdown",
   "metadata": {},
   "source": [
    "**The training pass process is as follow:**\n",
    "* model = CNN()This line is actually created our model.\n",
    "* Defined the criterion with Negative log-likelihood loss and also defined our optimizer (SGD)to optimize our model’s parameter when we loop through the dataset using epochs.\n",
    "\n",
    "**We are going to track running loss and validation loss for each epoch to see the evaluation of our model.**\n",
    "\n",
    "For training the data we set the model in train mode: model.train().Then loop over the “trainloader” to extract images and labels from a train data. The following process shows the train pass.\n",
    "\n",
    "* zero_grad():Clear the gradients of all optimized variables\n",
    "* outputs = model(inputs): Make a forward pass through the network to getting log probabilities bypassing the images to the model.\n",
    "* loss_fn = nn.CrossEntropyLoss():Use the log probabilities (outputs) and labels to calculate the loss.\n",
    "* loss.backward():Perform a backward pass through the network to calculate the gradients for model parameters.\n",
    "* optimizer.step()Take a step with the optimizer to update the model parameters.\n",
    "\n",
    "**We need to use test data to know when to stop training the model. So, we have validatiın batch that loop over the validation data and labels.**\n",
    "\n",
    "In test batch, we apply the model and calculate the loss for the test data set. "
   ]
  },
  {
   "cell_type": "code",
   "execution_count": 16,
   "metadata": {},
   "outputs": [
    {
     "name": "stdout",
     "output_type": "stream",
     "text": [
      "Epoch 1/25, Training Loss: 0.828, Training Accuracy: 73.000, Testing Loss: 0.507, Testing Acc: 82.000\n",
      "Epoch 2/25, Training Loss: 0.472, Training Accuracy: 83.000, Testing Loss: 0.418, Testing Acc: 85.000\n",
      "Epoch 3/25, Training Loss: 0.400, Training Accuracy: 85.000, Testing Loss: 0.377, Testing Acc: 86.000\n",
      "Epoch 4/25, Training Loss: 0.365, Training Accuracy: 86.000, Testing Loss: 0.348, Testing Acc: 87.000\n",
      "Epoch 5/25, Training Loss: 0.339, Training Accuracy: 87.000, Testing Loss: 0.334, Testing Acc: 87.000\n",
      "Epoch 6/25, Training Loss: 0.322, Training Accuracy: 88.000, Testing Loss: 0.317, Testing Acc: 88.000\n",
      "Epoch 7/25, Training Loss: 0.307, Training Accuracy: 88.000, Testing Loss: 0.317, Testing Acc: 88.000\n",
      "Epoch 8/25, Training Loss: 0.295, Training Accuracy: 89.000, Testing Loss: 0.308, Testing Acc: 88.000\n",
      "Epoch 9/25, Training Loss: 0.283, Training Accuracy: 89.000, Testing Loss: 0.304, Testing Acc: 88.000\n",
      "Epoch 10/25, Training Loss: 0.276, Training Accuracy: 90.000, Testing Loss: 0.294, Testing Acc: 89.000\n",
      "Epoch 11/25, Training Loss: 0.268, Training Accuracy: 90.000, Testing Loss: 0.286, Testing Acc: 89.000\n",
      "Epoch 12/25, Training Loss: 0.263, Training Accuracy: 90.000, Testing Loss: 0.285, Testing Acc: 89.000\n",
      "Epoch 13/25, Training Loss: 0.256, Training Accuracy: 90.000, Testing Loss: 0.276, Testing Acc: 89.000\n",
      "Epoch 14/25, Training Loss: 0.248, Training Accuracy: 91.000, Testing Loss: 0.270, Testing Acc: 90.000\n",
      "Epoch 15/25, Training Loss: 0.242, Training Accuracy: 91.000, Testing Loss: 0.269, Testing Acc: 90.000\n",
      "Epoch 16/25, Training Loss: 0.240, Training Accuracy: 91.000, Testing Loss: 0.278, Testing Acc: 90.000\n",
      "Epoch 17/25, Training Loss: 0.233, Training Accuracy: 91.000, Testing Loss: 0.262, Testing Acc: 90.000\n",
      "Epoch 18/25, Training Loss: 0.230, Training Accuracy: 91.000, Testing Loss: 0.261, Testing Acc: 90.000\n",
      "Epoch 19/25, Training Loss: 0.225, Training Accuracy: 91.000, Testing Loss: 0.254, Testing Acc: 90.000\n",
      "Epoch 20/25, Training Loss: 0.220, Training Accuracy: 91.000, Testing Loss: 0.259, Testing Acc: 90.000\n",
      "Epoch 21/25, Training Loss: 0.215, Training Accuracy: 92.000, Testing Loss: 0.255, Testing Acc: 90.000\n",
      "Epoch 22/25, Training Loss: 0.212, Training Accuracy: 92.000, Testing Loss: 0.253, Testing Acc: 90.000\n",
      "Epoch 23/25, Training Loss: 0.209, Training Accuracy: 92.000, Testing Loss: 0.250, Testing Acc: 90.000\n",
      "Epoch 24/25, Training Loss: 0.206, Training Accuracy: 92.000, Testing Loss: 0.246, Testing Acc: 91.000\n",
      "Epoch 25/25, Training Loss: 0.202, Training Accuracy: 92.000, Testing Loss: 0.250, Testing Acc: 90.000\n"
     ]
    }
   ],
   "source": [
    "#Training the CNN\n",
    "num_epochs = 25\n",
    "\n",
    "#Define the lists to store the results of loss and accuracy\n",
    "train_loss = []\n",
    "test_loss = []\n",
    "train_accuracy = []\n",
    "test_accuracy = []\n",
    "\n",
    "#Training\n",
    "for epoch in range(num_epochs): \n",
    "    #Reset these below variables to 0 at the begining of every epoch\n",
    "    correct = 0\n",
    "    iterations = 0\n",
    "    iter_loss = 0.0\n",
    "    \n",
    "    model.train()                   # Put the network into training mode to include dropout and batch normalization. We do not do it for testing\n",
    "    \n",
    "    for i, (inputs, labels) in enumerate(train_load):\n",
    "        \n",
    "        if CUDA:\n",
    "            inputs = inputs.cuda()\n",
    "            labels = labels.cuda()\n",
    "        \n",
    "        outputs = model(inputs)         \n",
    "        loss = loss_fn(outputs, labels)  \n",
    "        iter_loss += loss.item()         # Accumulate the loss\n",
    "        optimizer.zero_grad()            # Clear off the gradient in (w = w - gradient)\n",
    "        loss.backward()                 # Backpropagation \n",
    "        optimizer.step()                # Update the weights\n",
    "        \n",
    "        # Record the correct predictions for training data \n",
    "        _, predicted = torch.max(outputs, 1)\n",
    "        correct += (predicted == labels).sum()\n",
    "        iterations += 1\n",
    "    \n",
    "    # Record the training loss\n",
    "    train_loss.append(iter_loss/iterations)\n",
    "    # Record the training accuracy\n",
    "    train_accuracy.append((100 * correct / len(train_dataset)))\n",
    "   \n",
    "    #Testing\n",
    "    testing_loss = 0.0\n",
    "    correct = 0\n",
    "    iterations = 0\n",
    "\n",
    "    model.eval()                    # Put the network into evaluation mode\n",
    "    \n",
    "    for i, (inputs, labels) in enumerate(test_load):\n",
    "\n",
    "        if CUDA:\n",
    "            inputs = inputs.cuda()\n",
    "            labels = labels.cuda()\n",
    "        \n",
    "        outputs = model(inputs)     \n",
    "        loss = loss_fn(outputs, labels) # Calculate the loss\n",
    "        testing_loss += loss.item()\n",
    "        # Record the correct predictions for training data\n",
    "        _, predicted = torch.max(outputs, 1)\n",
    "        correct += (predicted == labels).sum()\n",
    "        \n",
    "        iterations += 1\n",
    "\n",
    "    # Record the Testing loss\n",
    "    test_loss.append(testing_loss/iterations)\n",
    "    # Record the Testing accuracy\n",
    "    test_accuracy.append((100 * correct / len(test_dataset)))\n",
    "    \n",
    "    print ('Epoch {}/{}, Training Loss: {:.3f}, Training Accuracy: {:.3f}, Testing Loss: {:.3f}, Testing Acc: {:.3f}'\n",
    "           .format(epoch+1, num_epochs, train_loss[-1], train_accuracy[-1], \n",
    "             test_loss[-1], test_accuracy[-1]))"
   ]
  },
  {
   "cell_type": "code",
   "execution_count": 17,
   "metadata": {},
   "outputs": [
    {
     "data": {
      "image/png": "[encoded data removed]",
      "text/plain": [
       "<Figure size 720x720 with 1 Axes>"
      ]
     },
     "metadata": {
      "needs_background": "light"
     },
     "output_type": "display_data"
    }
   ],
   "source": [
    "# Loss\n",
    "f = plt.figure(figsize=(10, 10))\n",
    "plt.plot(train_loss, label='Training Loss')\n",
    "plt.plot(test_loss, label='Testing Loss')\n",
    "plt.legend()\n",
    "plt.show()"
   ]
  },
  {
   "cell_type": "code",
   "execution_count": 18,
   "metadata": {},
   "outputs": [
    {
     "data": {
      "image/png": "[encoded data removed]",
      "text/plain": [
       "<Figure size 720x720 with 1 Axes>"
      ]
     },
     "metadata": {
      "needs_background": "light"
     },
     "output_type": "display_data"
    }
   ],
   "source": [
    "# Accuracy\n",
    "f = plt.figure(figsize=(10, 10))\n",
    "plt.plot(train_accuracy, label='Training Accuracy')\n",
    "plt.plot(test_accuracy, label='Testing Accuracy')\n",
    "plt.legend()\n",
    "plt.show()"
   ]
  },
  {
   "cell_type": "code",
   "execution_count": 19,
   "metadata": {},
   "outputs": [
    {
     "name": "stdout",
     "output_type": "stream",
     "text": [
      "Prediction is: 8\n",
      "Actual is: 8\n"
     ]
    }
   ],
   "source": [
    "img = test_dataset[30][0].resize_((1, 1, 28, 28))   #(batch_size,channels,height,width)\n",
    "label = test_dataset[30][1]\n",
    "\n",
    "model.eval()\n",
    "\n",
    "if CUDA:\n",
    "    model = model.cuda()\n",
    "    img = img.cuda()\n",
    "    \n",
    "output = model(img)\n",
    "_, predicted = torch.max(output,1)\n",
    "print(\"Prediction is: {}\".format(predicted.item()))\n",
    "print(\"Actual is: {}\".format(label))"
   ]
  },
  {
   "cell_type": "code",
   "execution_count": null,
   "metadata": {},
   "outputs": [],
   "source": []
  }
 ],
 "metadata": {
  "kernelspec": {
   "display_name": "Python 3",
   "language": "python",
   "name": "python3"
  },
  "language_info": {
   "codemirror_mode": {
    "name": "ipython",
    "version": 3
   },
   "file_extension": ".py",
   "mimetype": "text/x-python",
   "name": "python",
   "nbconvert_exporter": "python",
   "pygments_lexer": "ipython3",
   "version": "3.7.3"
  }
 },
 "nbformat": 4,
 "nbformat_minor": 2
}
